{
 "cells": [
  {
   "cell_type": "code",
   "execution_count": null,
   "metadata": {},
   "outputs": [],
   "source": [
    "# first lets make a string with some phone numbers from various countries\n",
    "\n",
    "\n",
    "# TODO get all of these phone numbers using a regular expression\n",
    "# and return them as a list\n",
    "# see how many you can get\n",
    "# of course you can google for some regex ideas but first see how far you can get on your own"
   ]
  },
  {
   "cell_type": "code",
   "execution_count": 2,
   "metadata": {},
   "outputs": [],
   "source": [
    "phone_text = \"\"\"\n",
    "+1 555 123 4567\n",
    "+1 555 123 456\n",
    "+1 555 123 45\n",
    "Latvia +371 20 123 456\n",
    "Lithuania +370 5 123 456\n",
    "Estonia +372 5123 456\n",
    "USA +1 408 123 4567\n",
    "sometimes we write our phone numbers like this: 555 123 4560\n",
    "sometimes we write our phone numbers like this: 555-123-4561\n",
    "sometimes we write our phone numbers like this: 555.123.4562 rarely\n",
    "also we use parentheses: (555) 123-4563\n",
    "so the assignment is to write a regular expression that will match all of these phone numbers\n",
    "\"\"\""
   ]
  },
  {
   "cell_type": "code",
   "execution_count": 28,
   "metadata": {},
   "outputs": [],
   "source": [
    "import re"
   ]
  },
  {
   "cell_type": "code",
   "execution_count": 44,
   "metadata": {},
   "outputs": [
    {
     "name": "stdout",
     "output_type": "stream",
     "text": [
      "['+1 555 123 4567', '+1 555 123 456', '+1 555 123 45', ' +371 20 123 456', ' +370 5 123 456', ' +372 5123 456', ' +1 408 123 4567', ' 555 123 4560', ' 555', '123', '4561', ' 555', '123', '4562', '555', ' 123', '4563']\n"
     ]
    }
   ],
   "source": [
    "# r\"[a-zA-Z0-9_.+-]+@[a-zA-Z0-9-]+\\.[a-zA-Z0-9-.]+\"\n",
    "# r\"\\w+@\\w+\\.\\w+\"\n",
    "# r\"\\d+\"\n",
    "\n",
    "match_list = re.findall(r\"[+0-9 0-9 0-9 0-9]+\\d+\", phone_text)\n",
    "print(match_list) "
   ]
  },
  {
   "cell_type": "code",
   "execution_count": 54,
   "metadata": {},
   "outputs": [
    {
     "name": "stdout",
     "output_type": "stream",
     "text": [
      "['1', '555', '123', '4567', '1', '555', '123', '456', '1', '555', '123', '45', '371', '20', '123', '456', '370', '5', '123', '456', '372', '5123', '456', '1', '408', '123', '4567', '555', '123', '4560', '555', '123', '4561', '555.123.4562', '555', '123', '4563']\n"
     ]
    }
   ],
   "source": [
    "match_list = re.findall(r\"[0-9.0-9.0-9]+\", phone_text)\n",
    "print(match_list) "
   ]
  }
 ],
 "metadata": {
  "kernelspec": {
   "display_name": "Python 3.10.7 64-bit",
   "language": "python",
   "name": "python3"
  },
  "language_info": {
   "codemirror_mode": {
    "name": "ipython",
    "version": 3
   },
   "file_extension": ".py",
   "mimetype": "text/x-python",
   "name": "python",
   "nbconvert_exporter": "python",
   "pygments_lexer": "ipython3",
   "version": "3.10.7"
  },
  "orig_nbformat": 4,
  "vscode": {
   "interpreter": {
    "hash": "3a67a583c77752d5e1af73125661a1aa0cf1349e180e510903c2c81315cf6006"
   }
  }
 },
 "nbformat": 4,
 "nbformat_minor": 2
}
